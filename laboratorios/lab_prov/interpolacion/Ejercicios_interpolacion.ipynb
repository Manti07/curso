{
 "cells": [
  {
   "cell_type": "markdown",
   "id": "81ba11cf-d829-430b-9b4c-d7c60c3fe701",
   "metadata": {},
   "source": [
    "# Instrucciones para Resolver Sistemas Ax=b y By=b\n",
    "\n",
    "Se te proporciona una serie de tablas en la cual la última columna corresponde a un elemento conocido como **etiqueta**, y el resto de columnas se conoce como **características**. Tu tarea es llevar a cabo los siguientes pasos **sin el uso de funciones definidas (`def`)**, para que te familiarices con lo que sucede detrás al usar herramientas como scikit-learn de Python:\n",
    "\n",
    "### 1. Descomponer las tablas\n",
    "Descompón las tablas en:\n",
    "- **Matriz A:** que contiene todas las características.\n",
    "- **Vector b:** que contiene las etiquetas.\n",
    "\n",
    "### 2. Generar la Matriz Ampliada B\n",
    "Genera una matriz ampliada **B** añadiendo una primera columna de $1's$ y el resto con los valores de la matriz **A**, de modo que:\n",
    "$$ B = [1|A] $$\n",
    "\n",
    "### 3. Cálculo del Determinante\n",
    "En los casos en que sea posible, calcula el determinante de las matrices **A** y **B**:\n",
    "- Determinante de **A**: $ \\text{det}(A) $\n",
    "- Determinante de **B**: $ \\text{det}(B) $\n",
    "\n",
    "### 4. Cálculo del Rango\n",
    "Calcula el rango de las matrices:\n",
    "- **Rango de A**: $ \\text{rank}(A) $\n",
    "- **Rango de B**: $ \\text{rank}(B) $\n",
    "\n",
    "También, calcula el rango de las matrices ampliadas **[A|b]** y **[B|b]**:\n",
    "$$ \\text{rank}( [A|b] ) \\quad \\text{y} \\quad \\text{rank}( [B|b] ) $$\n",
    "\n",
    "### 5. Clasificación de los Sistemas\n",
    "Clasifica los sistemas:\n",
    "- **Ax=b**\n",
    "- **By=b**\n",
    "\n",
    "según la clasificación de sistemas de ecuaciones lineales (determinado, indeterminado, o incompatible) basado en los rangos obtenidos.\n",
    "\n",
    "### 6. Resolución de los Sistemas\n",
    "Resuelve los sistemas utilizando:\n",
    "- **Matriz inversa** si el sistema es determinado: $ x = A^{-1}b $\n",
    "- **Pseudoinversa** en caso de ser un sistema indeterminado: $ x = A^{+}b $\n",
    "\n",
    "Haz lo mismo para **B**:\n",
    "$$ y = B^{-1}b \\quad \\text{o} \\quad y = B^{+}b $$\n",
    "\n",
    "### 7. Análisis de Estabilidad\n",
    "Realiza un análisis de estabilidad de los sistemas a través de dilataciones y contracciones de las soluciones en factores del:\n",
    "- $0.5\\%$, $1\\%$, $2\\%$, $5\\%$, y $10\\%$.\n",
    "\n",
    "Analiza los cambios porcentuales que se generan en las soluciones $b'$ perturbadas en relación con la $b$ real.\n",
    "\n",
    "### 8. Intervalos de Confianza\n",
    "Con el análisis anterior, establece una clase de intervalos de confianza en terminos de porcentaje para las soluciones obtenidas, considerando que:\n",
    "- Las **dilataciones** podrían simular el redondeo o pérdida de precisión en los decimales de las soluciones.\n",
    "- Las **contracciones** podrían simular errores numéricos pequeños o fluctuaciones en los datos originales.\n",
    "\n",
    "### 9. Interpolantes\n",
    "Las soluciones de los sistemas **Ax=b** y **By=b** pueden utilizarse para construir interpolantes:\n",
    "- **Sin término independiente** para **Ax=b**.\n",
    "- **Con término independiente** para **By=b**.\n",
    "\n",
    "Construye dichos interpolantes.\n",
    "\n",
    "### 10. Comparación de los Interpolantes\n",
    "Analiza cuál de los interpolantes proporciona una solución más cercana a los valores de $b$, y argumenta si eso sería suficiente para justificar si es una mejor solución para el problema de interpolación.\n"
   ]
  },
  {
   "cell_type": "code",
   "execution_count": 2,
   "id": "1095e615-99af-4d03-9fd3-8ecdab4a42a3",
   "metadata": {},
   "outputs": [],
   "source": [
    "# tabla (6x6)\n",
    "import numpy as np\n",
    "tabla_1 = np.array([[0.32047, 0.82356, 0.25645, 0.49580, 0.67355, 0.61427],\n",
    "                  [0.29187, 0.44708, 0.19897, 0.89325, 0.73233, 0.89347],\n",
    "                  [0.13883, 0.64831, 0.02541, 0.84798, 0.57868, 0.37958],\n",
    "                  [0.89019, 0.36956, 0.23375, 0.45624, 0.18749, 0.25037],\n",
    "                  [0.54278, 0.18745, 0.96885, 0.25942, 0.65492, 0.12485],\n",
    "                  [0.76956, 0.06538, 0.49874, 0.82947, 0.86217, 0.78432]])\n"
   ]
  },
  {
   "cell_type": "code",
   "execution_count": 3,
   "id": "fea8f173-3353-4eb5-9898-c2a35df4b7b4",
   "metadata": {},
   "outputs": [],
   "source": [
    "# tabla (6x6)\n",
    "tabla_2 = np.array([[0.42533, 0.30128, 0.67274, 0.56891, 0.84945, 0.61348],\n",
    "                  [0.89747, 0.25390, 0.18011, 0.45375, 0.61618, 0.23765],\n",
    "                  [0.53472, 0.74909, 0.10292, 0.92582, 0.42937, 0.97256],\n",
    "                  [0.82625, 0.66803, 0.48776, 0.61463, 0.06765, 0.81539],\n",
    "                  [0.16523, 0.81656, 0.41254, 0.72114, 0.82603, 0.15945],\n",
    "                  [0.72064, 0.37514, 0.57535, 0.25643, 0.53927, 0.69474]])\n"
   ]
  },
  {
   "cell_type": "code",
   "execution_count": 4,
   "id": "6d7477b6-d435-4753-9642-2a760b70bc0b",
   "metadata": {},
   "outputs": [],
   "source": [
    "# tabla (8x7)\n",
    "tabla_3 = np.array([[0.74898, 0.28122, 0.52920, 0.56900, 0.91599, 0.26114, 0.85767],\n",
    "                  [0.87788, 0.57300, 0.21391, 0.18360, 0.27809, 0.47191, 0.52021],\n",
    "                  [0.87446, 0.54117, 0.65085, 0.02731, 0.92548, 0.95857, 0.84126],\n",
    "                  [0.44242, 0.31208, 0.45062, 0.48809, 0.24730, 0.08539, 0.49884],\n",
    "                  [0.36721, 0.45338, 0.60793, 0.01837, 0.66224, 0.12615, 0.33194],\n",
    "                  [0.54924, 0.69931, 0.05451, 0.81977, 0.56267, 0.36233, 0.99719],\n",
    "                  [0.77000, 0.20419, 0.72319, 0.47703, 0.62884, 0.70215, 0.00228],\n",
    "                  [0.59750, 0.39309, 0.90533, 0.88076, 0.34626, 0.56525, 0.59347]])\n"
   ]
  },
  {
   "cell_type": "code",
   "execution_count": 5,
   "id": "1b687790-df1c-4ee7-b646-51ef278cf8c4",
   "metadata": {},
   "outputs": [],
   "source": [
    "# tabla (8x7)\n",
    "tabla_4 = np.array([[0.43217, 0.27185, 0.63925, 0.14753, 0.65845, 0.72451, 0.92756],\n",
    "                  [0.85973, 0.55467, 0.10348, 0.38429, 0.97862, 0.30109, 0.36874],\n",
    "                  [0.18459, 0.66988, 0.47842, 0.82746, 0.13367, 0.93471, 0.74512],\n",
    "                  [0.04917, 0.76520, 0.56264, 0.05618, 0.31561, 0.90881, 0.09857],\n",
    "                  [0.70551, 0.97730, 0.84481, 0.27559, 0.12154, 0.54392, 0.64783],\n",
    "                  [0.96104, 0.86563, 0.05429, 0.34809, 0.25537, 0.21155, 0.28367],\n",
    "                  [0.57384, 0.78641, 0.19932, 0.14379, 0.47252, 0.20055, 0.18792],\n",
    "                  [0.31864, 0.96378, 0.48521, 0.11467, 0.89523, 0.69090, 0.45634]])"
   ]
  },
  {
   "cell_type": "code",
   "execution_count": 6,
   "id": "83eab68b-673c-4024-aa9b-8743219b443a",
   "metadata": {},
   "outputs": [],
   "source": [
    "# tabla (6x7)\n",
    "tabla_5 = np.array([[0.42074, 0.65412, 0.71950, 0.81775, 0.39471, 0.74543, 0.67315],\n",
    "                  [0.12866, 0.89460, 0.56291, 0.21824, 0.99422, 0.40157, 0.58752],\n",
    "                  [0.51278, 0.70214, 0.28451, 0.45349, 0.07861, 0.13209, 0.24194],\n",
    "                  [0.89752, 0.67005, 0.46527, 0.84486, 0.87365, 0.26328, 0.45833],\n",
    "                  [0.18930, 0.49567, 0.95384, 0.27422, 0.10112, 0.65198, 0.78461],\n",
    "                  [0.36893, 0.76034, 0.01245, 0.21353, 0.07645, 0.84261, 0.03150]])\n"
   ]
  },
  {
   "cell_type": "code",
   "execution_count": 7,
   "id": "735cd64e-0e2a-4dd1-8aec-e99cdd5b7a26",
   "metadata": {},
   "outputs": [],
   "source": [
    "# tabla (8x7)\n",
    "tabla_6 = np.array([[0.74898, 0.28122, 0.52920, 0.56900, 0.91599, 0.26114, 0.85767],\n",
    "                  [0.87788, 0.57300, 0.21391, 0.18360, 0.27809, 0.47191, 0.52021],\n",
    "                  [0.87446, 0.54117, 0.65085, 0.02731, 0.92548, 0.95857, 0.84126],\n",
    "                  [0.44242, 0.31208, 0.45062, 0.48809, 0.24730, 0.08539, 0.49884],\n",
    "                  [0.36721, 0.45338, 0.60793, 0.01837, 0.66224, 0.12615, 0.33194],\n",
    "                  [0.54924, 0.69931, 0.05451, 0.81977, 0.56267, 0.36233, 0.99719],\n",
    "                  [0.77000, 0.20419, 0.72319, 0.47703, 0.62884, 0.70215, 0.00228],\n",
    "                  [0.59750, 0.39309, 0.90533, 0.88076, 0.34626, 0.56525, 0.59347]])\n"
   ]
  },
  {
   "cell_type": "code",
   "execution_count": 8,
   "id": "b14f1cb1-ef0a-445d-a476-62bb6db7c308",
   "metadata": {},
   "outputs": [],
   "source": [
    "import numpy as np\n",
    "from numpy.linalg import det, matrix_rank, inv, pinv"
   ]
  },
  {
   "cell_type": "code",
   "execution_count": 17,
   "id": "bebd306c-6fdf-45a1-9375-f8dcd78e0457",
   "metadata": {},
   "outputs": [
    {
     "name": "stdout",
     "output_type": "stream",
     "text": [
      "[[0.42074 0.65412 0.7195  0.81775 0.39471]\n",
      " [0.12866 0.8946  0.56291 0.21824 0.99422]\n",
      " [0.51278 0.70214 0.28451 0.45349 0.07861]\n",
      " [0.89752 0.67005 0.46527 0.84486 0.87365]\n",
      " [0.1893  0.49567 0.95384 0.27422 0.10112]\n",
      " [0.36893 0.76034 0.01245 0.21353 0.07645]]\n"
     ]
    }
   ],
   "source": [
    "##Separar matriz A de vectores B\n",
    "\n",
    "rows= tabla_2.shape[0]\n",
    "columns = tabla_2.shape[1]\n",
    "\n",
    "matriz_base_A= tabla_5[0:rows, 0:columns - 1] \n",
    "vector_b= tabla_5[0: rows, columns -1: columns ] \n",
    "\n",
    "print(matriz_base_A)\n"
   ]
  },
  {
   "cell_type": "code",
   "execution_count": 18,
   "id": "65908188-81e6-4ceb-9f2c-45d230c4656a",
   "metadata": {},
   "outputs": [
    {
     "name": "stdout",
     "output_type": "stream",
     "text": [
      "[[1.      0.42074 0.65412 0.7195  0.81775 0.39471]\n",
      " [1.      0.12866 0.8946  0.56291 0.21824 0.99422]\n",
      " [1.      0.51278 0.70214 0.28451 0.45349 0.07861]\n",
      " [1.      0.89752 0.67005 0.46527 0.84486 0.87365]\n",
      " [1.      0.1893  0.49567 0.95384 0.27422 0.10112]\n",
      " [1.      0.36893 0.76034 0.01245 0.21353 0.07645]]\n"
     ]
    }
   ],
   "source": [
    "### 2. Crear matriz (1|A)\n",
    "rows = matriz_base_A.shape[0]\n",
    "columns = matriz_base_A.shape[1]\n",
    "\n",
    "columna_1s = np.ones((rows, 1))\n",
    "matriz_B= np.zeros((matriz_base_A.shape[0] , matriz_base_A.shape[1] + 1))\n",
    "matriz_B [0:rows, 1: columns +1 ] = matriz_base_A\n",
    "matriz_B [0:rows, 0 :1  ] = columna_1s\n",
    "\n",
    "print(matriz_B)"
   ]
  },
  {
   "cell_type": "code",
   "execution_count": 19,
   "id": "ffbb391b-c2c3-4183-a14e-51a809b015bf",
   "metadata": {},
   "outputs": [
    {
     "name": "stdout",
     "output_type": "stream",
     "text": [
      "Matrix_A not squared\n",
      "0.015530180948421311\n"
     ]
    }
   ],
   "source": [
    "### 3. Calculo del determinante A i B\n",
    "if matriz_base_A.shape[0] == matriz_base_A.shape[1]: print(det(matriz_base_A))\n",
    "else: print('Matrix_A not squared')\n",
    "\n",
    "if matriz_B.shape[0] == matriz_B.shape[1]: print(det(matriz_B))\n",
    "else: print('Matrix_B not squared')\n",
    "\n",
    "\n"
   ]
  },
  {
   "cell_type": "code",
   "execution_count": 20,
   "id": "93076e7f-8f2f-46b3-ab2c-23259bc2cfbd",
   "metadata": {},
   "outputs": [],
   "source": [
    "### 4. Calculo del rank\n",
    "rank_A=matrix_rank(matriz_base_A)\n",
    "rank_B= matrix_rank(matriz_B)\n",
    "\n",
    "rank_Ab = matrix_rank(np.hstack((matriz_base_A, vector_b)))\n",
    "rank_Bb = matrix_rank(np.hstack((matriz_B, vector_b)))\n",
    "\n"
   ]
  },
  {
   "cell_type": "code",
   "execution_count": 21,
   "id": "99316434-5a71-40fb-8ac7-c837709d1e7e",
   "metadata": {},
   "outputs": [
    {
     "name": "stdout",
     "output_type": "stream",
     "text": [
      "Sistema incompatible\n",
      "Sistema compatible determinado\n"
     ]
    }
   ],
   "source": [
    "# 5. Clasifica los sistemas Ax= b y Bx = b\n",
    "\n",
    "def classer_system(rank_matrix_1, rank_amplied_matrix_1, vector):\n",
    "\n",
    "    if rank_matrix_1!=rank_amplied_matrix_1:\n",
    "        print('Sistema incompatible')\n",
    "\n",
    "    elif rank_matrix_1==rank_amplied_matrix_1!=vector.shape[0]:\n",
    "        print('Sistema compatible indeterminado')\n",
    "\n",
    "    elif rank_matrix_1==rank_amplied_matrix_1==vector.shape[0]: \n",
    "        print('Sistema compatible determinado')\n",
    "\n",
    "    else: print('Algo fue mal, comprueba el input')\n",
    "\n",
    "classer_system(rank_A, rank_Ab, vector_b)\n",
    "classer_system(rank_B, rank_Bb, vector_b)\n",
    "\n",
    "# I'd use a function here so it works with evert combination, alas it's not allowed\n",
    "#print(rank_A, rank_Ab, vector_b.shape[0], '''Since, amplied matrix rank and base matrix are different it's a SI system \\n''')\n",
    "\n",
    "#print(rank_B, rank_Bb, vector_b.shape[0], '''Since, amplied matrix rank and base matrix are different it's a SI system''')"
   ]
  },
  {
   "cell_type": "code",
   "execution_count": 23,
   "id": "4ad2877a-8471-49fe-8232-dbcc981129c3",
   "metadata": {},
   "outputs": [
    {
     "data": {
      "text/plain": [
       "array([[-0.13694395],\n",
       "       [ 0.03930321],\n",
       "       [ 0.77673323],\n",
       "       [ 0.1191841 ],\n",
       "       [ 0.10297286],\n",
       "       [ 0.01085549]])"
      ]
     },
     "execution_count": 23,
     "metadata": {},
     "output_type": "execute_result"
    }
   ],
   "source": [
    "# 6. Solución de sistemas\n",
    "\n",
    "\n",
    "# matriz_inversa = inv(matriz_base_A)\n",
    "# solucion= matriz_inversa @ vector_b\n",
    "\n",
    "\n",
    "matriz_inversa = inv(matriz_B)\n",
    "x_base= matriz_inversa @ vector_b\n",
    "\n",
    "solucion\n"
   ]
  },
  {
   "cell_type": "code",
   "execution_count": 24,
   "id": "0ea4a640-9830-4926-bb07-a474fd635d91",
   "metadata": {},
   "outputs": [
    {
     "name": "stdout",
     "output_type": "stream",
     "text": [
      "Con la perturbacion de 0.5%, obtenemos una diferencia de: \t 0.4999999999997676%\n",
      "Con la perturbacion de 1.0%, obtenemos una diferencia de: \t 0.9999999999998627%\n",
      "Con la perturbacion de 5.0%, obtenemos una diferencia de: \t 4.99999999999975%\n",
      "Con la perturbacion de 10.0%, obtenemos una diferencia de: \t 9.99999999999979%\n"
     ]
    }
   ],
   "source": [
    "# 7. Analisis de estabilidad, analiza la diferencia entre b' y la b real %\n",
    "\n",
    "perturbaciones = [0.005, 0.01, 0.05, 0.1]\n",
    "matriz_inversa = inv(matriz_B)\n",
    "matriz_temp = matriz_B.copy()\n",
    "\n",
    "for perturbacion in perturbaciones:\n",
    "    x_perturbada = x_base * perturbacion + x_base\n",
    "    b_perturbada= matriz_temp.copy() @ x_perturbada\n",
    "\n",
    "    diferencia = b_perturbada - vector_b\n",
    "    norma = (diferencia.transpose() @ diferencia)**0.5\n",
    "    norma_b = (vector_b.transpose() @ vector_b)**0.5\n",
    "\n",
    "    print(f'Con la perturbacion de {perturbacion*100}%, obtenemos una diferencia de: \\t {norma[0,0]*100/norma_b[0,0]}%')\n",
    "\n",
    "    \n",
    "    "
   ]
  },
  {
   "cell_type": "code",
   "execution_count": null,
   "id": "ee59f82a-850b-4327-8cfc-cdbdca4fa0ab",
   "metadata": {},
   "outputs": [],
   "source": [
    "# 8.  Establece rangos de confianza\n",
    "# Las soluciones del sistema soportan un 10% de error"
   ]
  },
  {
   "cell_type": "code",
   "execution_count": 28,
   "id": "0bc3f333-92c3-46e3-a188-c17d76c88945",
   "metadata": {},
   "outputs": [],
   "source": [
    "# 9. Construye interpolantes para Ax= b y By= b\n",
    "\n",
    "interpolante_B = lambda r : sum([r[i]*x_base[i] for i in range(len(r))])\n",
    "\n",
    "\n"
   ]
  },
  {
   "cell_type": "code",
   "execution_count": 32,
   "id": "c7ec110e-05e0-4f8f-9636-ba257f15720c",
   "metadata": {},
   "outputs": [
    {
     "data": {
      "text/plain": [
       "array([9.43417418e-16])"
      ]
     },
     "execution_count": 32,
     "metadata": {},
     "output_type": "execute_result"
    }
   ],
   "source": [
    "RMSE_B =  (sum([(interpolante_B(matriz_B[i,:]) - vector_b[i])**2 for i in range(len(vector_b))])/len(vector_b))**0.5\n",
    "RMSE_B"
   ]
  }
 ],
 "metadata": {
  "kernelspec": {
   "display_name": "Python 3 (ipykernel)",
   "language": "python",
   "name": "python3"
  },
  "language_info": {
   "codemirror_mode": {
    "name": "ipython",
    "version": 3
   },
   "file_extension": ".py",
   "mimetype": "text/x-python",
   "name": "python",
   "nbconvert_exporter": "python",
   "pygments_lexer": "ipython3",
   "version": "3.10.12"
  }
 },
 "nbformat": 4,
 "nbformat_minor": 5
}
