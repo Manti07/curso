{
 "cells": [
  {
   "cell_type": "markdown",
   "metadata": {},
   "source": [
    "# Laboratorio: Programación en Python\n",
    "\n",
    "En este laboratorio, pondremos en práctica algunos de los conceptos que hemos aprendido recientemente. El objetivo es que implementes cada función utilizando tres enfoques diferentes en Python: **programación imperativa**, **programación orientada a objetos** y **programación funcional**.\n",
    "\n",
    "> **NOTA:** En este laboratorio deberías intentar escribir todas las funciones por ti mismo utilizando únicamente la sintaxis más básica de Python, sin utilizar funciones predefinidas como `len`, `count`, `sum`, `max`, `min`, `in`, etc. ¡Dale una oportunidad! 🧑🏻‍💻👩🏻‍💻\n",
    "\n",
    "La celda después de cada ejercicio contiene pruebas para verificar si tu función funciona como se espera.\n"
   ]
  },
  {
   "cell_type": "code",
   "execution_count": 6,
   "metadata": {},
   "outputs": [],
   "source": [
    "from mod.testing import *\n",
    "import unittest"
   ]
  },
  {
   "cell_type": "markdown",
   "metadata": {},
   "source": [
    "## 1. Escribe una función que devuelva el mayor de dos números"
   ]
  },
  {
   "cell_type": "code",
   "execution_count": 2,
   "metadata": {},
   "outputs": [],
   "source": [
    "#tu codigo aquí\n",
    "def greater_imperativa(a, b):\n",
    "    if a > b:\n",
    "        return a\n",
    "    else:\n",
    "        return b"
   ]
  },
  {
   "cell_type": "code",
   "execution_count": 3,
   "metadata": {},
   "outputs": [
    {
     "name": "stderr",
     "output_type": "stream",
     "text": [
      "....................................................................................................\n",
      "----------------------------------------------------------------------\n",
      "Ran 100 tests in 0.203s\n",
      "\n",
      "OK\n"
     ]
    }
   ],
   "source": [
    "# Para testear tu función\n",
    "test_greater(greater_imperativa)"
   ]
  },
  {
   "cell_type": "code",
   "execution_count": 4,
   "metadata": {},
   "outputs": [],
   "source": [
    "class Comparador:\n",
    "    @staticmethod\n",
    "    def greater_poo(a, b):\n",
    "        return a if a > b else b\n",
    "\n",
    "greater_poo = Comparador.greater_poo"
   ]
  },
  {
   "cell_type": "code",
   "execution_count": 5,
   "metadata": {},
   "outputs": [
    {
     "name": "stderr",
     "output_type": "stream",
     "text": [
      "....................................................................................................\n",
      "----------------------------------------------------------------------\n",
      "Ran 100 tests in 0.197s\n",
      "\n",
      "OK\n"
     ]
    }
   ],
   "source": [
    "test_greater(greater_poo)"
   ]
  },
  {
   "cell_type": "code",
   "execution_count": 11,
   "metadata": {},
   "outputs": [],
   "source": [
    "greater_funcional = (lambda a, b: a if a > b else b)"
   ]
  },
  {
   "cell_type": "code",
   "execution_count": 7,
   "metadata": {},
   "outputs": [
    {
     "name": "stderr",
     "output_type": "stream",
     "text": [
      "....................................................................................................\n",
      "----------------------------------------------------------------------\n",
      "Ran 100 tests in 0.196s\n",
      "\n",
      "OK\n"
     ]
    }
   ],
   "source": [
    "test_greater(greater_funcional)"
   ]
  },
  {
   "cell_type": "markdown",
   "metadata": {},
   "source": [
    "## 2. Ahora escribe una función que devuelva el elemento más grande de una lista numerica"
   ]
  },
  {
   "cell_type": "code",
   "execution_count": 8,
   "metadata": {},
   "outputs": [],
   "source": [
    "#tu codigo aquí\n",
    "def greatest_imperativa(arr):\n",
    "    try:\n",
    "        max_num = arr[0]\n",
    "    except IndexError:\n",
    "        return None  \n",
    "        \n",
    "    for num in arr:\n",
    "        if num > max_num:\n",
    "            max_num = num\n",
    "    return max_num"
   ]
  },
  {
   "cell_type": "code",
   "execution_count": 9,
   "metadata": {},
   "outputs": [
    {
     "name": "stderr",
     "output_type": "stream",
     "text": [
      "....................................................................................................\n",
      "----------------------------------------------------------------------\n",
      "Ran 100 tests in 0.165s\n",
      "\n",
      "OK\n"
     ]
    }
   ],
   "source": [
    "# Para testear tu función\n",
    "test_greatest(greatest_imperativa)"
   ]
  },
  {
   "cell_type": "code",
   "execution_count": 6,
   "metadata": {},
   "outputs": [],
   "source": [
    "class greatest:\n",
    "    @staticmethod\n",
    "    \n",
    "    def greatest_poo(arr):\n",
    "        lista= arr.copy()\n",
    "        max_num = lista[-1]\n",
    "        while True:\n",
    "            try:\n",
    "                if lista[-1] > max_num:\n",
    "                    max_num = lista[-1]\n",
    "                    lista.remove(lista[-1])\n",
    "\n",
    "                else:\n",
    "                    lista.remove(lista[-1])\n",
    "\n",
    "            except IndexError:\n",
    "                return max_num\n",
    "                    \n",
    "greatest_poo = greatest.greatest_poo"
   ]
  },
  {
   "cell_type": "code",
   "execution_count": 7,
   "metadata": {},
   "outputs": [
    {
     "name": "stderr",
     "output_type": "stream",
     "text": [
      "....................................................................................................\n",
      "----------------------------------------------------------------------\n",
      "Ran 100 tests in 0.255s\n",
      "\n",
      "OK\n"
     ]
    }
   ],
   "source": [
    "test_greatest(greatest_poo)"
   ]
  },
  {
   "cell_type": "code",
   "execution_count": 1,
   "metadata": {},
   "outputs": [
    {
     "name": "stdout",
     "output_type": "stream",
     "text": [
      "<function greatest_funcional at 0x7f3ee34a1b40>\n"
     ]
    }
   ],
   "source": [
    "from functools import reduce\n",
    "def greatest_funcional(arr):\n",
    "    greatest_num = reduce(lambda x, y: x if x > y else y, arr)\n",
    "    return greatest_num\n",
    "print(greatest_funcional)"
   ]
  },
  {
   "cell_type": "code",
   "execution_count": 4,
   "metadata": {},
   "outputs": [
    {
     "name": "stderr",
     "output_type": "stream",
     "text": [
      "....................................................................................................\n",
      "----------------------------------------------------------------------\n",
      "Ran 100 tests in 0.443s\n",
      "\n",
      "OK\n"
     ]
    }
   ],
   "source": [
    "test_greatest(greatest_funcional)"
   ]
  },
  {
   "cell_type": "markdown",
   "metadata": {},
   "source": [
    "## 3. Escribe una función que sume todos los elementos de una lista"
   ]
  },
  {
   "cell_type": "code",
   "execution_count": 30,
   "metadata": {},
   "outputs": [],
   "source": [
    "#tu codigo aquí\n",
    "def sum_imperativa(arr):\n",
    "    total_sum= 0\n",
    "    for num in arr:\n",
    "        total_sum+= num\n",
    "\n",
    "    return total_sum\n",
    "        "
   ]
  },
  {
   "cell_type": "code",
   "execution_count": 31,
   "metadata": {},
   "outputs": [
    {
     "name": "stderr",
     "output_type": "stream",
     "text": [
      "....................................................................................................\n",
      "----------------------------------------------------------------------\n",
      "Ran 100 tests in 0.266s\n",
      "\n",
      "OK\n"
     ]
    }
   ],
   "source": [
    "# Para testear tu función\n",
    "test_sum(sum_imperativa)"
   ]
  },
  {
   "cell_type": "code",
   "execution_count": 9,
   "metadata": {},
   "outputs": [],
   "source": [
    "class sumador:\n",
    "    @staticmethod\n",
    "\n",
    "    def sum_poo(arr):\n",
    "        index= 0\n",
    "        sum_tot= 0\n",
    "        while True:\n",
    "            try:\n",
    "                sum_tot+= arr[index]\n",
    "                index+=1\n",
    "\n",
    "\n",
    "            except IndexError:\n",
    "                return sum_tot\n",
    "\n",
    "sum_poo = sumador.sum_poo\n",
    "\n"
   ]
  },
  {
   "cell_type": "code",
   "execution_count": 10,
   "metadata": {},
   "outputs": [
    {
     "name": "stderr",
     "output_type": "stream",
     "text": [
      "....................................................................................................\n",
      "----------------------------------------------------------------------\n",
      "Ran 100 tests in 0.407s\n",
      "\n",
      "OK\n"
     ]
    }
   ],
   "source": [
    "test_sum(sum_poo)"
   ]
  },
  {
   "cell_type": "code",
   "execution_count": 12,
   "metadata": {},
   "outputs": [],
   "source": [
    "from functools import reduce\n",
    "def sum_funcional(arr):\n",
    "    tot_sum = reduce(lambda x, y: x + y, arr)\n",
    "    return tot_sum"
   ]
  },
  {
   "cell_type": "code",
   "execution_count": 13,
   "metadata": {},
   "outputs": [
    {
     "name": "stderr",
     "output_type": "stream",
     "text": [
      "....................................................................................................\n",
      "----------------------------------------------------------------------\n",
      "Ran 100 tests in 0.329s\n",
      "\n",
      "OK\n"
     ]
    }
   ],
   "source": [
    "test_sum(sum_funcional)"
   ]
  },
  {
   "cell_type": "markdown",
   "metadata": {},
   "source": [
    "## 4. Escribe otra función que multiplique todos los elementos de una lista"
   ]
  },
  {
   "cell_type": "code",
   "execution_count": 14,
   "metadata": {},
   "outputs": [],
   "source": [
    "def mult_imperativa(arr):\n",
    "    total_mult= 1\n",
    "    index= 0\n",
    "    \n",
    "    while True:\n",
    "        try:\n",
    "            total_mult*= arr[index]\n",
    "            index+=1\n",
    "\n",
    "        except:\n",
    "            return total_mult\n",
    "\n",
    "    return total_mult\n"
   ]
  },
  {
   "cell_type": "code",
   "execution_count": 15,
   "metadata": {},
   "outputs": [
    {
     "name": "stderr",
     "output_type": "stream",
     "text": [
      "....................................................................................................\n",
      "----------------------------------------------------------------------\n",
      "Ran 100 tests in 0.378s\n",
      "\n",
      "OK\n"
     ]
    }
   ],
   "source": [
    "# Para testear tu función\n",
    "test_mult(mult_imperativa)"
   ]
  },
  {
   "cell_type": "code",
   "execution_count": 19,
   "metadata": {},
   "outputs": [],
   "source": [
    "class multi:\n",
    "    @staticmethod\n",
    "\n",
    "    def mult_poo(arr):\n",
    "        index= 0\n",
    "        total_mult= 1\n",
    "        while True:\n",
    "            try:\n",
    "                total_mult*= arr[index]\n",
    "                index+=1\n",
    "    \n",
    "            except:\n",
    "                return total_mult\n",
    "\n",
    "        return total_mult\n",
    "    \n",
    "mult_poo = multi.mult_poo"
   ]
  },
  {
   "cell_type": "code",
   "execution_count": 20,
   "metadata": {},
   "outputs": [
    {
     "name": "stderr",
     "output_type": "stream",
     "text": [
      "....................................................................................................\n",
      "----------------------------------------------------------------------\n",
      "Ran 100 tests in 0.375s\n",
      "\n",
      "OK\n"
     ]
    }
   ],
   "source": [
    "test_mult(mult_poo)"
   ]
  },
  {
   "cell_type": "code",
   "execution_count": 25,
   "metadata": {},
   "outputs": [],
   "source": [
    "from functools import reduce\n",
    "mult_funcional = lambda arr:0 if arr==[] else reduce(lambda a,b: a*b, arr)"
   ]
  },
  {
   "cell_type": "code",
   "execution_count": 27,
   "metadata": {},
   "outputs": [
    {
     "name": "stderr",
     "output_type": "stream",
     "text": [
      "....................................................................................................\n",
      "----------------------------------------------------------------------\n",
      "Ran 100 tests in 0.326s\n",
      "\n",
      "OK\n"
     ]
    }
   ],
   "source": [
    "test_mult(mult_funcional)"
   ]
  },
  {
   "cell_type": "markdown",
   "metadata": {},
   "source": [
    "## 5. Ahora combina esas dos ideas y escribe una función que reciba una lista y ya sea \"+\" o \"*\", y produzca el resultado acorde"
   ]
  },
  {
   "cell_type": "code",
   "execution_count": 29,
   "metadata": {},
   "outputs": [],
   "source": [
    "def operaciones_imperativa(signo, arr):\n",
    "    if signo == '+':\n",
    "        return sum_imperativa(arr)\n",
    "\n",
    "    elif signo == '*':\n",
    "        return mult_imperativa(arr)\n",
    "\n",
    "    else:\n",
    "        print('Signo no adecuado')\n",
    "        return None"
   ]
  },
  {
   "cell_type": "code",
   "execution_count": 30,
   "metadata": {},
   "outputs": [
    {
     "ename": "UnboundLocalError",
     "evalue": "local variable 'ans' referenced before assignment",
     "output_type": "error",
     "traceback": [
      "\u001b[0;31m---------------------------------------------------------------------------\u001b[0m",
      "\u001b[0;31mUnboundLocalError\u001b[0m                         Traceback (most recent call last)",
      "Cell \u001b[0;32mIn[30], line 2\u001b[0m\n\u001b[1;32m      1\u001b[0m \u001b[38;5;66;03m# Para testear tu función\u001b[39;00m\n\u001b[0;32m----> 2\u001b[0m \u001b[43mtest_operations\u001b[49m\u001b[43m(\u001b[49m\u001b[43moperaciones_imperativa\u001b[49m\u001b[43m)\u001b[49m\n",
      "File \u001b[0;32m~/uoc/curso/laboratorios/lab_04/mod/testing.py:99\u001b[0m, in \u001b[0;36mtest_operations\u001b[0;34m(fn)\u001b[0m\n\u001b[1;32m     97\u001b[0m         arr\u001b[38;5;241m.\u001b[39mappend(random\u001b[38;5;241m.\u001b[39mrandint(\u001b[38;5;241m-\u001b[39m\u001b[38;5;241m10\u001b[39m, \u001b[38;5;241m10\u001b[39m))\n\u001b[1;32m     98\u001b[0m     op \u001b[38;5;241m=\u001b[39m random\u001b[38;5;241m.\u001b[39mchoice([\u001b[38;5;124m\"\u001b[39m\u001b[38;5;124m+\u001b[39m\u001b[38;5;124m\"\u001b[39m, \u001b[38;5;124m\"\u001b[39m\u001b[38;5;124m*\u001b[39m\u001b[38;5;124m\"\u001b[39m])\n\u001b[0;32m---> 99\u001b[0m     suite\u001b[38;5;241m.\u001b[39maddTest(TestKnown((arr, op), \u001b[43mans\u001b[49m(arr, op)))\n\u001b[1;32m    101\u001b[0m \u001b[38;5;28;01mdef\u001b[39;00m \u001b[38;5;21mans\u001b[39m(arr, op):\n\u001b[1;32m    102\u001b[0m     \u001b[38;5;28;01mif\u001b[39;00m op \u001b[38;5;241m==\u001b[39m \u001b[38;5;124m\"\u001b[39m\u001b[38;5;124m+\u001b[39m\u001b[38;5;124m\"\u001b[39m:\n",
      "\u001b[0;31mUnboundLocalError\u001b[0m: local variable 'ans' referenced before assignment"
     ]
    }
   ],
   "source": [
    "# Para testear tu función\n",
    "test_operations(operaciones_imperativa)"
   ]
  },
  {
   "cell_type": "code",
   "execution_count": null,
   "metadata": {},
   "outputs": [],
   "source": []
  },
  {
   "cell_type": "code",
   "execution_count": null,
   "metadata": {},
   "outputs": [],
   "source": [
    "test_operations(operaciones_poo)"
   ]
  },
  {
   "cell_type": "code",
   "execution_count": null,
   "metadata": {},
   "outputs": [],
   "source": []
  },
  {
   "cell_type": "code",
   "execution_count": null,
   "metadata": {},
   "outputs": [],
   "source": [
    "test_operations(operaciones_funcional)"
   ]
  },
  {
   "cell_type": "markdown",
   "metadata": {},
   "source": [
    "## 6. Escribe una función que devuelva el factorial de un número."
   ]
  },
  {
   "cell_type": "code",
   "execution_count": null,
   "metadata": {},
   "outputs": [],
   "source": [
    "# Fórmula factorial\n",
    "# n! = n * (n - 1) *...*1\n",
    "\n",
    "# Este código define una función llamada \"factorial\" que toma una entrada \"n\". La función utiliza un bucle for para iterar a través del rango de números\n",
    "# desde 1 hasta n+1. Para cada número en ese rango, multiplica el valor actual de x por el número en el rango. Al final del bucle,\n",
    "# la función devuelve el valor final de x, que será el factorial del número de entrada \"n\".\n",
    "\n",
    "# El factorial de un entero positivo n es el producto de todos los enteros positivos menores o iguales a n.\n",
    "# Por ejemplo, el factorial de 6 (escrito \"6!\") es 6 * 5 * 4 * 3 * 2 * 1 = 720.\n",
    "\n",
    "# Así que esta función toma una entrada de cualquier entero positivo y devuelve el factorial de ese número."
   ]
  },
  {
   "cell_type": "code",
   "execution_count": 38,
   "metadata": {},
   "outputs": [],
   "source": [
    "def factorial_imperativa(factorial_value: int) ->int:\n",
    "\n",
    "    if factorial_value <2:\n",
    "        return factorial_value\n",
    "\n",
    "    else:\n",
    "        return factorial_value * factorial_imperativa(factorial_value - 1)\n"
   ]
  },
  {
   "cell_type": "code",
   "execution_count": 39,
   "metadata": {},
   "outputs": [
    {
     "name": "stderr",
     "output_type": "stream",
     "text": [
      "....................................................................................................\n",
      "----------------------------------------------------------------------\n",
      "Ran 100 tests in 0.311s\n",
      "\n",
      "OK\n"
     ]
    }
   ],
   "source": [
    "# Para testear tu función\n",
    "test_factorial(factorial_imperativa)"
   ]
  },
  {
   "cell_type": "code",
   "execution_count": 42,
   "metadata": {},
   "outputs": [],
   "source": [
    "class factorial:\n",
    "    @staticmethod\n",
    "    def factorial_poo(num_fact):\n",
    "        if num_fact <2:\n",
    "            return num_fact\n",
    "\n",
    "        else:\n",
    "            return num_fact * factorial.factorial_poo(num_fact - 1)\n",
    "\n",
    "factorial_poo= factorial.factorial_poo"
   ]
  },
  {
   "cell_type": "code",
   "execution_count": 43,
   "metadata": {},
   "outputs": [
    {
     "name": "stderr",
     "output_type": "stream",
     "text": [
      "....................................................................................................\n",
      "----------------------------------------------------------------------\n",
      "Ran 100 tests in 0.413s\n",
      "\n",
      "OK\n"
     ]
    }
   ],
   "source": [
    "test_factorial(factorial_poo)"
   ]
  },
  {
   "cell_type": "code",
   "execution_count": 53,
   "metadata": {},
   "outputs": [],
   "source": [
    "factorial_funcional = lambda num:1 if num<=1 else reduce(lambda a,b: a*b, range(1, num+1))"
   ]
  },
  {
   "cell_type": "code",
   "execution_count": 54,
   "metadata": {},
   "outputs": [
    {
     "name": "stderr",
     "output_type": "stream",
     "text": [
      "....................................................................................................\n",
      "----------------------------------------------------------------------\n",
      "Ran 100 tests in 0.396s\n",
      "\n",
      "OK\n"
     ]
    }
   ],
   "source": [
    "test_factorial(factorial_funcional)"
   ]
  },
  {
   "cell_type": "markdown",
   "metadata": {},
   "source": [
    "## 7. Escribe una función que tome una lista y devuelva una lista de los valores únicos.\n",
    "\n",
    "`NOTE: No podemos usar set. 🤔`"
   ]
  },
  {
   "cell_type": "code",
   "execution_count": 4,
   "metadata": {},
   "outputs": [
    {
     "data": {
      "text/plain": [
       "[1, 2]"
      ]
     },
     "execution_count": 4,
     "metadata": {},
     "output_type": "execute_result"
    }
   ],
   "source": [
    "def unique_imperativa(arr):\n",
    "    index= 0\n",
    "    unique_lista= []\n",
    "\n",
    "    while True:\n",
    "\n",
    "        try:\n",
    "            new_value = arr[index]\n",
    "            sub_index= 0\n",
    "            index+=1\n",
    "            \n",
    "            while True:\n",
    "                \n",
    "                try: \n",
    "                    if unique_lista[sub_index] == new_value:\n",
    "                        new_value = None\n",
    "                        break\n",
    "                        \n",
    "                    sub_index+=1\n",
    "                    \n",
    "                except:\n",
    "                    break\n",
    "\n",
    "            if new_value!= None:\n",
    "                unique_lista.append(new_value)\n",
    "\n",
    "        except: \n",
    "            return unique_lista\n",
    "            \n",
    "unique_imperativa([1,2,2])  "
   ]
  },
  {
   "cell_type": "code",
   "execution_count": 7,
   "metadata": {},
   "outputs": [
    {
     "name": "stderr",
     "output_type": "stream",
     "text": [
      "....................................................................................................\n",
      "----------------------------------------------------------------------\n",
      "Ran 100 tests in 1.058s\n",
      "\n",
      "OK\n"
     ]
    }
   ],
   "source": [
    "# Para testear tu función \n",
    "test_unique(unique_imperativa)"
   ]
  },
  {
   "cell_type": "code",
   "execution_count": null,
   "metadata": {},
   "outputs": [],
   "source": []
  },
  {
   "cell_type": "code",
   "execution_count": null,
   "metadata": {},
   "outputs": [],
   "source": [
    "test_unique(unique_poo)"
   ]
  },
  {
   "cell_type": "code",
   "execution_count": 86,
   "metadata": {},
   "outputs": [],
   "source": [
    "unique_functional=[]\n",
    "#pares = list(filter(lambda x: x % 2 == 0, lista))\n",
    "#unique_funcional = lambda lista:[] if lista==[] else list(filter(lambda a: a, lista))\n",
    "\n",
    "unique_funcional = lambda arr: reduce( lambda acc, item : acc + [item] if reduce(lambda x, y: x or (y==item), acc, False) == False else acc, arr, [])"
   ]
  },
  {
   "cell_type": "code",
   "execution_count": 87,
   "metadata": {},
   "outputs": [
    {
     "name": "stderr",
     "output_type": "stream",
     "text": [
      "....................................................................................................\n",
      "----------------------------------------------------------------------\n",
      "Ran 100 tests in 1.500s\n",
      "\n",
      "OK\n"
     ]
    }
   ],
   "source": [
    "test_unique(unique_funcional)"
   ]
  },
  {
   "cell_type": "markdown",
   "metadata": {},
   "source": [
    "## 8. Escribe una función que devuelva la moda de una lista, es decir: el elemento que aparece más veces.\n",
    "\n",
    "`NOTE: No se debe usar count... 🧐`"
   ]
  },
  {
   "cell_type": "code",
   "execution_count": 28,
   "metadata": {},
   "outputs": [],
   "source": [
    "def mode_imperativa(arr):\n",
    "    index= 0\n",
    "    counter={}\n",
    "    while True:\n",
    "\n",
    "        try:\n",
    "            new_value = arr[index]\n",
    "\n",
    "            try:\n",
    "                counter[new_value]+=1\n",
    "\n",
    "            except IndexError: \n",
    "                counter[new_value]=1\n",
    "\n",
    "            index+=1\n",
    "\n",
    "\n",
    "        except: \n",
    "\n",
    "            max_value= 0\n",
    "            max_key = None\n",
    "            index_2= 0\n",
    "            \n",
    "            while True:\n",
    "                \n",
    "                try:\n",
    "                    new_key = arr[index_2]\n",
    "\n",
    "                    if counter[new_key] > max_value:\n",
    "                        max_key= new_key\n",
    "                        max_value= counter[new_key]\n",
    "\n",
    "                    index_2+=1\n",
    "\n",
    "\n",
    "                except IndexError:\n",
    "                    return max_key\n",
    "                    \n"
   ]
  },
  {
   "cell_type": "code",
   "execution_count": 27,
   "metadata": {},
   "outputs": [
    {
     "name": "stderr",
     "output_type": "stream",
     "text": [
      "....................................................................................................\n",
      "----------------------------------------------------------------------\n",
      "Ran 100 tests in 0.360s\n",
      "\n",
      "OK\n"
     ]
    }
   ],
   "source": [
    "# Para testear tu función\n",
    "test_mode(mode_imperativa)"
   ]
  },
  {
   "cell_type": "code",
   "execution_count": 50,
   "metadata": {},
   "outputs": [
    {
     "name": "stdout",
     "output_type": "stream",
     "text": [
      "2\n"
     ]
    }
   ],
   "source": [
    "class mode:\n",
    "    def __init__(self):\n",
    "        self.contado={}\n",
    "        return\n",
    "\n",
    "    def biggest_dict(self,arr):\n",
    "        contador= self.contado\n",
    "        max_value= 0\n",
    "        max_key = None\n",
    "        index_2= 0\n",
    "            \n",
    "        while True:\n",
    "            \n",
    "            try:\n",
    "                new_key = arr[index_2]\n",
    "    \n",
    "                if contador[new_key] > max_value:\n",
    "                    max_key= new_key\n",
    "                    max_value= contador[new_key]\n",
    "    \n",
    "                index_2+=1\n",
    "    \n",
    "    \n",
    "            except:\n",
    "                return max_key\n",
    "        \n",
    "    def contador(self, arr):\n",
    "        index= 0\n",
    "        counter={}\n",
    "        while True:\n",
    "    \n",
    "            try:\n",
    "                new_value = arr[index]\n",
    "    \n",
    "                try:\n",
    "                    counter[new_value]+=1\n",
    "    \n",
    "                except: \n",
    "                    counter[new_value]=1\n",
    "    \n",
    "                index+=1\n",
    "    \n",
    "    \n",
    "            except IndexError: \n",
    "\n",
    "                self.contado= counter\n",
    "                \n",
    "                return mode.biggest_dict(self, arr)\n",
    "                \n",
    "\n",
    "\n",
    "mode_poo= mode().contador\n",
    "\n",
    "print(mode_poo(arr=[1,2,2,3,4,2]))"
   ]
  },
  {
   "cell_type": "code",
   "execution_count": 51,
   "metadata": {},
   "outputs": [
    {
     "name": "stderr",
     "output_type": "stream",
     "text": [
      "....................................................................................................\n",
      "----------------------------------------------------------------------\n",
      "Ran 100 tests in 0.458s\n",
      "\n",
      "OK\n"
     ]
    }
   ],
   "source": [
    "test_mode(mode_poo)"
   ]
  },
  {
   "cell_type": "code",
   "execution_count": null,
   "metadata": {},
   "outputs": [],
   "source": []
  },
  {
   "cell_type": "code",
   "execution_count": null,
   "metadata": {},
   "outputs": [],
   "source": [
    "test_mode(mode_funcional)"
   ]
  },
  {
   "cell_type": "markdown",
   "metadata": {},
   "source": [
    "## 9. Escribe una función que calcule la desviación estándar de una lista.\n",
    "`NOTE: no utilices librerías ni ninguna función ya construida. 😉`"
   ]
  },
  {
   "cell_type": "code",
   "execution_count": null,
   "metadata": {},
   "outputs": [],
   "source": [
    "#tu codigo aquí"
   ]
  },
  {
   "cell_type": "code",
   "execution_count": null,
   "metadata": {},
   "outputs": [],
   "source": [
    "# Para testear tu función\n",
    "test_stdev(st_dev_imperativa)"
   ]
  },
  {
   "cell_type": "code",
   "execution_count": null,
   "metadata": {},
   "outputs": [],
   "source": []
  },
  {
   "cell_type": "code",
   "execution_count": null,
   "metadata": {},
   "outputs": [],
   "source": [
    "test_stdev(st_dev_poo)"
   ]
  },
  {
   "cell_type": "code",
   "execution_count": 96,
   "metadata": {},
   "outputs": [
    {
     "data": {
      "text/plain": [
       "1.118033988749895"
      ]
     },
     "execution_count": 96,
     "metadata": {},
     "output_type": "execute_result"
    }
   ],
   "source": [
    "def st_dev_funcional(arr):\n",
    "\n",
    "    count= reduce(lambda a, b: a+1, arr, 0)\n",
    "    mean= reduce(lambda a,b: a+b, arr, 0) / count\n",
    "\n",
    "    varianza= reduce(lambda a, b: a+ (b-mean)**2, arr)\n",
    "\n",
    "    return (varianza / (count - 1))**0.5\n",
    "\n",
    "st_dev_funcional([1,2,3,4])"
   ]
  },
  {
   "cell_type": "code",
   "execution_count": 97,
   "metadata": {},
   "outputs": [
    {
     "name": "stderr",
     "output_type": "stream",
     "text": [
      "FF.....FFF.F...F...F....FFF..F.F...F.F..FFF..FFFF.FFFF.FFFF...F.FF...F.F.FFFF...FF.FFF..F.F.F..F....\n",
      "======================================================================\n",
      "FAIL: runTest (mod.testing.test_stdev.<locals>.TestKnown)\n",
      "----------------------------------------------------------------------\n",
      "Traceback (most recent call last):\n",
      "  File \"/home/manti/uoc/curso/laboratorios/lab_04/mod/testing.py\", line 174, in runTest\n",
      "    self.assertAlmostEqual(fn(self.input), self.output, delta=5, msg=f\"Should be {self.output}\")\n",
      "AssertionError: 561.220540290635 != 567.0867463340562 within 5 delta (5.8662060434212435 difference) : Should be 567.0867463340562\n",
      "\n",
      "======================================================================\n",
      "FAIL: runTest (mod.testing.test_stdev.<locals>.TestKnown)\n",
      "----------------------------------------------------------------------\n",
      "Traceback (most recent call last):\n",
      "  File \"/home/manti/uoc/curso/laboratorios/lab_04/mod/testing.py\", line 174, in runTest\n",
      "    self.assertAlmostEqual(fn(self.input), self.output, delta=5, msg=f\"Should be {self.output}\")\n",
      "AssertionError: 577.0515093511535 != 644.4860296579302 within 5 delta (67.43452030677668 difference) : Should be 644.4860296579302\n",
      "\n",
      "======================================================================\n",
      "FAIL: runTest (mod.testing.test_stdev.<locals>.TestKnown)\n",
      "----------------------------------------------------------------------\n",
      "Traceback (most recent call last):\n",
      "  File \"/home/manti/uoc/curso/laboratorios/lab_04/mod/testing.py\", line 174, in runTest\n",
      "    self.assertAlmostEqual(fn(self.input), self.output, delta=5, msg=f\"Should be {self.output}\")\n",
      "AssertionError: 591.353445644052 != 600.6253837654355 within 5 delta (9.271938121383414 difference) : Should be 600.6253837654355\n",
      "\n",
      "======================================================================\n",
      "FAIL: runTest (mod.testing.test_stdev.<locals>.TestKnown)\n",
      "----------------------------------------------------------------------\n",
      "Traceback (most recent call last):\n",
      "  File \"/home/manti/uoc/curso/laboratorios/lab_04/mod/testing.py\", line 174, in runTest\n",
      "    self.assertAlmostEqual(fn(self.input), self.output, delta=5, msg=f\"Should be {self.output}\")\n",
      "AssertionError: 592.0936932477862 != 597.2477458687937 within 5 delta (5.154052621007509 difference) : Should be 597.2477458687937\n",
      "\n",
      "======================================================================\n",
      "FAIL: runTest (mod.testing.test_stdev.<locals>.TestKnown)\n",
      "----------------------------------------------------------------------\n",
      "Traceback (most recent call last):\n",
      "  File \"/home/manti/uoc/curso/laboratorios/lab_04/mod/testing.py\", line 174, in runTest\n",
      "    self.assertAlmostEqual(fn(self.input), self.output, delta=5, msg=f\"Should be {self.output}\")\n",
      "AssertionError: 359.69083367988867 != 400.17271271289854 within 5 delta (40.481879033009875 difference) : Should be 400.17271271289854\n",
      "\n",
      "======================================================================\n",
      "FAIL: runTest (mod.testing.test_stdev.<locals>.TestKnown)\n",
      "----------------------------------------------------------------------\n",
      "Traceback (most recent call last):\n",
      "  File \"/home/manti/uoc/curso/laboratorios/lab_04/mod/testing.py\", line 174, in runTest\n",
      "    self.assertAlmostEqual(fn(self.input), self.output, delta=5, msg=f\"Should be {self.output}\")\n",
      "AssertionError: 545.7177419997753 != 568.9104118107408 within 5 delta (23.192669810965526 difference) : Should be 568.9104118107408\n",
      "\n",
      "======================================================================\n",
      "FAIL: runTest (mod.testing.test_stdev.<locals>.TestKnown)\n",
      "----------------------------------------------------------------------\n",
      "Traceback (most recent call last):\n",
      "  File \"/home/manti/uoc/curso/laboratorios/lab_04/mod/testing.py\", line 174, in runTest\n",
      "    self.assertAlmostEqual(fn(self.input), self.output, delta=5, msg=f\"Should be {self.output}\")\n",
      "AssertionError: 572.3006825102566 != 584.9916511373923 within 5 delta (12.690968627135703 difference) : Should be 584.9916511373923\n",
      "\n",
      "======================================================================\n",
      "FAIL: runTest (mod.testing.test_stdev.<locals>.TestKnown)\n",
      "----------------------------------------------------------------------\n",
      "Traceback (most recent call last):\n",
      "  File \"/home/manti/uoc/curso/laboratorios/lab_04/mod/testing.py\", line 174, in runTest\n",
      "    self.assertAlmostEqual(fn(self.input), self.output, delta=5, msg=f\"Should be {self.output}\")\n",
      "AssertionError: 568.4320598275796 != 578.9354751457923 within 5 delta (10.503415318212774 difference) : Should be 578.9354751457923\n",
      "\n",
      "======================================================================\n",
      "FAIL: runTest (mod.testing.test_stdev.<locals>.TestKnown)\n",
      "----------------------------------------------------------------------\n",
      "Traceback (most recent call last):\n",
      "  File \"/home/manti/uoc/curso/laboratorios/lab_04/mod/testing.py\", line 174, in runTest\n",
      "    self.assertAlmostEqual(fn(self.input), self.output, delta=5, msg=f\"Should be {self.output}\")\n",
      "AssertionError: 620.6605945869482 != 628.7842595600041 within 5 delta (8.123664973055952 difference) : Should be 628.7842595600041\n",
      "\n",
      "======================================================================\n",
      "FAIL: runTest (mod.testing.test_stdev.<locals>.TestKnown)\n",
      "----------------------------------------------------------------------\n",
      "Traceback (most recent call last):\n",
      "  File \"/home/manti/uoc/curso/laboratorios/lab_04/mod/testing.py\", line 174, in runTest\n",
      "    self.assertAlmostEqual(fn(self.input), self.output, delta=5, msg=f\"Should be {self.output}\")\n",
      "AssertionError: 633.2696252931015 != 643.4937673296942 within 5 delta (10.224142036592639 difference) : Should be 643.4937673296942\n",
      "\n",
      "======================================================================\n",
      "FAIL: runTest (mod.testing.test_stdev.<locals>.TestKnown)\n",
      "----------------------------------------------------------------------\n",
      "Traceback (most recent call last):\n",
      "  File \"/home/manti/uoc/curso/laboratorios/lab_04/mod/testing.py\", line 174, in runTest\n",
      "    self.assertAlmostEqual(fn(self.input), self.output, delta=5, msg=f\"Should be {self.output}\")\n",
      "AssertionError: 607.6383044129943 != 615.8627134501502 within 5 delta (8.224409037155851 difference) : Should be 615.8627134501502\n",
      "\n",
      "======================================================================\n",
      "FAIL: runTest (mod.testing.test_stdev.<locals>.TestKnown)\n",
      "----------------------------------------------------------------------\n",
      "Traceback (most recent call last):\n",
      "  File \"/home/manti/uoc/curso/laboratorios/lab_04/mod/testing.py\", line 174, in runTest\n",
      "    self.assertAlmostEqual(fn(self.input), self.output, delta=5, msg=f\"Should be {self.output}\")\n",
      "AssertionError: 614.0880517042337 != 622.3830392459162 within 5 delta (8.294987541682417 difference) : Should be 622.3830392459162\n",
      "\n",
      "======================================================================\n",
      "FAIL: runTest (mod.testing.test_stdev.<locals>.TestKnown)\n",
      "----------------------------------------------------------------------\n",
      "Traceback (most recent call last):\n",
      "  File \"/home/manti/uoc/curso/laboratorios/lab_04/mod/testing.py\", line 174, in runTest\n",
      "    self.assertAlmostEqual(fn(self.input), self.output, delta=5, msg=f\"Should be {self.output}\")\n",
      "AssertionError: 573.4535356831072 != 579.0027138019262 within 5 delta (5.549178118818986 difference) : Should be 579.0027138019262\n",
      "\n",
      "======================================================================\n",
      "FAIL: runTest (mod.testing.test_stdev.<locals>.TestKnown)\n",
      "----------------------------------------------------------------------\n",
      "Traceback (most recent call last):\n",
      "  File \"/home/manti/uoc/curso/laboratorios/lab_04/mod/testing.py\", line 174, in runTest\n",
      "    self.assertAlmostEqual(fn(self.input), self.output, delta=5, msg=f\"Should be {self.output}\")\n",
      "AssertionError: 598.4768235579146 != 605.6949553342663 within 5 delta (7.218131776351697 difference) : Should be 605.6949553342663\n",
      "\n",
      "======================================================================\n",
      "FAIL: runTest (mod.testing.test_stdev.<locals>.TestKnown)\n",
      "----------------------------------------------------------------------\n",
      "Traceback (most recent call last):\n",
      "  File \"/home/manti/uoc/curso/laboratorios/lab_04/mod/testing.py\", line 174, in runTest\n",
      "    self.assertAlmostEqual(fn(self.input), self.output, delta=5, msg=f\"Should be {self.output}\")\n",
      "AssertionError: 618.4227036205606 != 630.5058553240276 within 5 delta (12.083151703467024 difference) : Should be 630.5058553240276\n",
      "\n",
      "======================================================================\n",
      "FAIL: runTest (mod.testing.test_stdev.<locals>.TestKnown)\n",
      "----------------------------------------------------------------------\n",
      "Traceback (most recent call last):\n",
      "  File \"/home/manti/uoc/curso/laboratorios/lab_04/mod/testing.py\", line 174, in runTest\n",
      "    self.assertAlmostEqual(fn(self.input), self.output, delta=5, msg=f\"Should be {self.output}\")\n",
      "AssertionError: 579.2794365600265 != 593.7013610847175 within 5 delta (14.421924524691008 difference) : Should be 593.7013610847175\n",
      "\n",
      "======================================================================\n",
      "FAIL: runTest (mod.testing.test_stdev.<locals>.TestKnown)\n",
      "----------------------------------------------------------------------\n",
      "Traceback (most recent call last):\n",
      "  File \"/home/manti/uoc/curso/laboratorios/lab_04/mod/testing.py\", line 174, in runTest\n",
      "    self.assertAlmostEqual(fn(self.input), self.output, delta=5, msg=f\"Should be {self.output}\")\n",
      "AssertionError: 584.7280807687621 != 630.504230592723 within 5 delta (45.776149823960964 difference) : Should be 630.504230592723\n",
      "\n",
      "======================================================================\n",
      "FAIL: runTest (mod.testing.test_stdev.<locals>.TestKnown)\n",
      "----------------------------------------------------------------------\n",
      "Traceback (most recent call last):\n",
      "  File \"/home/manti/uoc/curso/laboratorios/lab_04/mod/testing.py\", line 174, in runTest\n",
      "    self.assertAlmostEqual(fn(self.input), self.output, delta=5, msg=f\"Should be {self.output}\")\n",
      "AssertionError: 539.1544469581327 != 550.8486380274088 within 5 delta (11.694191069276144 difference) : Should be 550.8486380274088\n",
      "\n",
      "======================================================================\n",
      "FAIL: runTest (mod.testing.test_stdev.<locals>.TestKnown)\n",
      "----------------------------------------------------------------------\n",
      "Traceback (most recent call last):\n",
      "  File \"/home/manti/uoc/curso/laboratorios/lab_04/mod/testing.py\", line 174, in runTest\n",
      "    self.assertAlmostEqual(fn(self.input), self.output, delta=5, msg=f\"Should be {self.output}\")\n",
      "AssertionError: 560.4449145162458 != 566.9327728570593 within 5 delta (6.487858340813432 difference) : Should be 566.9327728570593\n",
      "\n",
      "======================================================================\n",
      "FAIL: runTest (mod.testing.test_stdev.<locals>.TestKnown)\n",
      "----------------------------------------------------------------------\n",
      "Traceback (most recent call last):\n",
      "  File \"/home/manti/uoc/curso/laboratorios/lab_04/mod/testing.py\", line 174, in runTest\n",
      "    self.assertAlmostEqual(fn(self.input), self.output, delta=5, msg=f\"Should be {self.output}\")\n",
      "AssertionError: 515.0942764327111 != 530.5536832417562 within 5 delta (15.45940680904505 difference) : Should be 530.5536832417562\n",
      "\n",
      "======================================================================\n",
      "FAIL: runTest (mod.testing.test_stdev.<locals>.TestKnown)\n",
      "----------------------------------------------------------------------\n",
      "Traceback (most recent call last):\n",
      "  File \"/home/manti/uoc/curso/laboratorios/lab_04/mod/testing.py\", line 174, in runTest\n",
      "    self.assertAlmostEqual(fn(self.input), self.output, delta=5, msg=f\"Should be {self.output}\")\n",
      "AssertionError: 606.9436268447743 != 615.2491906698584 within 5 delta (8.305563825084164 difference) : Should be 615.2491906698584\n",
      "\n",
      "======================================================================\n",
      "FAIL: runTest (mod.testing.test_stdev.<locals>.TestKnown)\n",
      "----------------------------------------------------------------------\n",
      "Traceback (most recent call last):\n",
      "  File \"/home/manti/uoc/curso/laboratorios/lab_04/mod/testing.py\", line 174, in runTest\n",
      "    self.assertAlmostEqual(fn(self.input), self.output, delta=5, msg=f\"Should be {self.output}\")\n",
      "AssertionError: 593.949239757308 != 608.6693885972783 within 5 delta (14.720148839970307 difference) : Should be 608.6693885972783\n",
      "\n",
      "======================================================================\n",
      "FAIL: runTest (mod.testing.test_stdev.<locals>.TestKnown)\n",
      "----------------------------------------------------------------------\n",
      "Traceback (most recent call last):\n",
      "  File \"/home/manti/uoc/curso/laboratorios/lab_04/mod/testing.py\", line 174, in runTest\n",
      "    self.assertAlmostEqual(fn(self.input), self.output, delta=5, msg=f\"Should be {self.output}\")\n",
      "AssertionError: 612.7546635113672 != 619.0552111992429 within 5 delta (6.300547687875678 difference) : Should be 619.0552111992429\n",
      "\n",
      "======================================================================\n",
      "FAIL: runTest (mod.testing.test_stdev.<locals>.TestKnown)\n",
      "----------------------------------------------------------------------\n",
      "Traceback (most recent call last):\n",
      "  File \"/home/manti/uoc/curso/laboratorios/lab_04/mod/testing.py\", line 174, in runTest\n",
      "    self.assertAlmostEqual(fn(self.input), self.output, delta=5, msg=f\"Should be {self.output}\")\n",
      "AssertionError: 559.9912719878599 != 569.144252187422 within 5 delta (9.15298019956208 difference) : Should be 569.144252187422\n",
      "\n",
      "======================================================================\n",
      "FAIL: runTest (mod.testing.test_stdev.<locals>.TestKnown)\n",
      "----------------------------------------------------------------------\n",
      "Traceback (most recent call last):\n",
      "  File \"/home/manti/uoc/curso/laboratorios/lab_04/mod/testing.py\", line 174, in runTest\n",
      "    self.assertAlmostEqual(fn(self.input), self.output, delta=5, msg=f\"Should be {self.output}\")\n",
      "AssertionError: 486.6456065129776 != 524.1307016615631 within 5 delta (37.48509514858546 difference) : Should be 524.1307016615631\n",
      "\n",
      "======================================================================\n",
      "FAIL: runTest (mod.testing.test_stdev.<locals>.TestKnown)\n",
      "----------------------------------------------------------------------\n",
      "Traceback (most recent call last):\n",
      "  File \"/home/manti/uoc/curso/laboratorios/lab_04/mod/testing.py\", line 174, in runTest\n",
      "    self.assertAlmostEqual(fn(self.input), self.output, delta=5, msg=f\"Should be {self.output}\")\n",
      "AssertionError: 605.3688258320346 != 623.9049020802985 within 5 delta (18.53607624826384 difference) : Should be 623.9049020802985\n",
      "\n",
      "======================================================================\n",
      "FAIL: runTest (mod.testing.test_stdev.<locals>.TestKnown)\n",
      "----------------------------------------------------------------------\n",
      "Traceback (most recent call last):\n",
      "  File \"/home/manti/uoc/curso/laboratorios/lab_04/mod/testing.py\", line 174, in runTest\n",
      "    self.assertAlmostEqual(fn(self.input), self.output, delta=5, msg=f\"Should be {self.output}\")\n",
      "AssertionError: 605.0702613995823 != 624.3733944638302 within 5 delta (19.30313306424796 difference) : Should be 624.3733944638302\n",
      "\n",
      "======================================================================\n",
      "FAIL: runTest (mod.testing.test_stdev.<locals>.TestKnown)\n",
      "----------------------------------------------------------------------\n",
      "Traceback (most recent call last):\n",
      "  File \"/home/manti/uoc/curso/laboratorios/lab_04/mod/testing.py\", line 174, in runTest\n",
      "    self.assertAlmostEqual(fn(self.input), self.output, delta=5, msg=f\"Should be {self.output}\")\n",
      "AssertionError: 586.7966928643875 != 600.8571053784284 within 5 delta (14.060412514040877 difference) : Should be 600.8571053784284\n",
      "\n",
      "======================================================================\n",
      "FAIL: runTest (mod.testing.test_stdev.<locals>.TestKnown)\n",
      "----------------------------------------------------------------------\n",
      "Traceback (most recent call last):\n",
      "  File \"/home/manti/uoc/curso/laboratorios/lab_04/mod/testing.py\", line 174, in runTest\n",
      "    self.assertAlmostEqual(fn(self.input), self.output, delta=5, msg=f\"Should be {self.output}\")\n",
      "AssertionError: 576.4936770489502 != 599.852938966791 within 5 delta (23.359261917840854 difference) : Should be 599.852938966791\n",
      "\n",
      "======================================================================\n",
      "FAIL: runTest (mod.testing.test_stdev.<locals>.TestKnown)\n",
      "----------------------------------------------------------------------\n",
      "Traceback (most recent call last):\n",
      "  File \"/home/manti/uoc/curso/laboratorios/lab_04/mod/testing.py\", line 174, in runTest\n",
      "    self.assertAlmostEqual(fn(self.input), self.output, delta=5, msg=f\"Should be {self.output}\")\n",
      "AssertionError: 588.3040446485054 != 606.4388228699913 within 5 delta (18.13477822148593 difference) : Should be 606.4388228699913\n",
      "\n",
      "======================================================================\n",
      "FAIL: runTest (mod.testing.test_stdev.<locals>.TestKnown)\n",
      "----------------------------------------------------------------------\n",
      "Traceback (most recent call last):\n",
      "  File \"/home/manti/uoc/curso/laboratorios/lab_04/mod/testing.py\", line 174, in runTest\n",
      "    self.assertAlmostEqual(fn(self.input), self.output, delta=5, msg=f\"Should be {self.output}\")\n",
      "AssertionError: 615.2256295253908 != 623.752212572489 within 5 delta (8.526583047098256 difference) : Should be 623.752212572489\n",
      "\n",
      "======================================================================\n",
      "FAIL: runTest (mod.testing.test_stdev.<locals>.TestKnown)\n",
      "----------------------------------------------------------------------\n",
      "Traceback (most recent call last):\n",
      "  File \"/home/manti/uoc/curso/laboratorios/lab_04/mod/testing.py\", line 174, in runTest\n",
      "    self.assertAlmostEqual(fn(self.input), self.output, delta=5, msg=f\"Should be {self.output}\")\n",
      "AssertionError: 591.4519860175023 != 601.4790783988931 within 5 delta (10.02709238139073 difference) : Should be 601.4790783988931\n",
      "\n",
      "======================================================================\n",
      "FAIL: runTest (mod.testing.test_stdev.<locals>.TestKnown)\n",
      "----------------------------------------------------------------------\n",
      "Traceback (most recent call last):\n",
      "  File \"/home/manti/uoc/curso/laboratorios/lab_04/mod/testing.py\", line 174, in runTest\n",
      "    self.assertAlmostEqual(fn(self.input), self.output, delta=5, msg=f\"Should be {self.output}\")\n",
      "AssertionError: 487.83721371089945 != 495.45962112703137 within 5 delta (7.622407416131921 difference) : Should be 495.45962112703137\n",
      "\n",
      "======================================================================\n",
      "FAIL: runTest (mod.testing.test_stdev.<locals>.TestKnown)\n",
      "----------------------------------------------------------------------\n",
      "Traceback (most recent call last):\n",
      "  File \"/home/manti/uoc/curso/laboratorios/lab_04/mod/testing.py\", line 174, in runTest\n",
      "    self.assertAlmostEqual(fn(self.input), self.output, delta=5, msg=f\"Should be {self.output}\")\n",
      "AssertionError: 584.3391244081631 != 596.9232403567889 within 5 delta (12.584115948625822 difference) : Should be 596.9232403567889\n",
      "\n",
      "======================================================================\n",
      "FAIL: runTest (mod.testing.test_stdev.<locals>.TestKnown)\n",
      "----------------------------------------------------------------------\n",
      "Traceback (most recent call last):\n",
      "  File \"/home/manti/uoc/curso/laboratorios/lab_04/mod/testing.py\", line 174, in runTest\n",
      "    self.assertAlmostEqual(fn(self.input), self.output, delta=5, msg=f\"Should be {self.output}\")\n",
      "AssertionError: 518.2099797716372 != 524.2164424848086 within 5 delta (6.006462713171345 difference) : Should be 524.2164424848086\n",
      "\n",
      "======================================================================\n",
      "FAIL: runTest (mod.testing.test_stdev.<locals>.TestKnown)\n",
      "----------------------------------------------------------------------\n",
      "Traceback (most recent call last):\n",
      "  File \"/home/manti/uoc/curso/laboratorios/lab_04/mod/testing.py\", line 174, in runTest\n",
      "    self.assertAlmostEqual(fn(self.input), self.output, delta=5, msg=f\"Should be {self.output}\")\n",
      "AssertionError: 565.9341684461616 != 574.9421765073479 within 5 delta (9.008008061186274 difference) : Should be 574.9421765073479\n",
      "\n",
      "======================================================================\n",
      "FAIL: runTest (mod.testing.test_stdev.<locals>.TestKnown)\n",
      "----------------------------------------------------------------------\n",
      "Traceback (most recent call last):\n",
      "  File \"/home/manti/uoc/curso/laboratorios/lab_04/mod/testing.py\", line 174, in runTest\n",
      "    self.assertAlmostEqual(fn(self.input), self.output, delta=5, msg=f\"Should be {self.output}\")\n",
      "AssertionError: 554.6879362909083 != 588.3966538163029 within 5 delta (33.708717525394604 difference) : Should be 588.3966538163029\n",
      "\n",
      "======================================================================\n",
      "FAIL: runTest (mod.testing.test_stdev.<locals>.TestKnown)\n",
      "----------------------------------------------------------------------\n",
      "Traceback (most recent call last):\n",
      "  File \"/home/manti/uoc/curso/laboratorios/lab_04/mod/testing.py\", line 174, in runTest\n",
      "    self.assertAlmostEqual(fn(self.input), self.output, delta=5, msg=f\"Should be {self.output}\")\n",
      "AssertionError: 533.8339307234241 != 543.487897065959 within 5 delta (9.653966342534886 difference) : Should be 543.487897065959\n",
      "\n",
      "======================================================================\n",
      "FAIL: runTest (mod.testing.test_stdev.<locals>.TestKnown)\n",
      "----------------------------------------------------------------------\n",
      "Traceback (most recent call last):\n",
      "  File \"/home/manti/uoc/curso/laboratorios/lab_04/mod/testing.py\", line 174, in runTest\n",
      "    self.assertAlmostEqual(fn(self.input), self.output, delta=5, msg=f\"Should be {self.output}\")\n",
      "AssertionError: 583.6662429938075 != 588.7590875965425 within 5 delta (5.092844602734999 difference) : Should be 588.7590875965425\n",
      "\n",
      "======================================================================\n",
      "FAIL: runTest (mod.testing.test_stdev.<locals>.TestKnown)\n",
      "----------------------------------------------------------------------\n",
      "Traceback (most recent call last):\n",
      "  File \"/home/manti/uoc/curso/laboratorios/lab_04/mod/testing.py\", line 174, in runTest\n",
      "    self.assertAlmostEqual(fn(self.input), self.output, delta=5, msg=f\"Should be {self.output}\")\n",
      "AssertionError: 583.391401045984 != 590.3740122924144 within 5 delta (6.982611246430338 difference) : Should be 590.3740122924144\n",
      "\n",
      "======================================================================\n",
      "FAIL: runTest (mod.testing.test_stdev.<locals>.TestKnown)\n",
      "----------------------------------------------------------------------\n",
      "Traceback (most recent call last):\n",
      "  File \"/home/manti/uoc/curso/laboratorios/lab_04/mod/testing.py\", line 174, in runTest\n",
      "    self.assertAlmostEqual(fn(self.input), self.output, delta=5, msg=f\"Should be {self.output}\")\n",
      "AssertionError: 542.1244016982138 != 554.4310895381603 within 5 delta (12.306687839946562 difference) : Should be 554.4310895381603\n",
      "\n",
      "======================================================================\n",
      "FAIL: runTest (mod.testing.test_stdev.<locals>.TestKnown)\n",
      "----------------------------------------------------------------------\n",
      "Traceback (most recent call last):\n",
      "  File \"/home/manti/uoc/curso/laboratorios/lab_04/mod/testing.py\", line 174, in runTest\n",
      "    self.assertAlmostEqual(fn(self.input), self.output, delta=5, msg=f\"Should be {self.output}\")\n",
      "AssertionError: 580.2393879401974 != 587.346951948313 within 5 delta (7.10756400811556 difference) : Should be 587.346951948313\n",
      "\n",
      "======================================================================\n",
      "FAIL: runTest (mod.testing.test_stdev.<locals>.TestKnown)\n",
      "----------------------------------------------------------------------\n",
      "Traceback (most recent call last):\n",
      "  File \"/home/manti/uoc/curso/laboratorios/lab_04/mod/testing.py\", line 174, in runTest\n",
      "    self.assertAlmostEqual(fn(self.input), self.output, delta=5, msg=f\"Should be {self.output}\")\n",
      "AssertionError: 680.4535499117549 != 713.497198056157 within 5 delta (33.04364814440214 difference) : Should be 713.497198056157\n",
      "\n",
      "======================================================================\n",
      "FAIL: runTest (mod.testing.test_stdev.<locals>.TestKnown)\n",
      "----------------------------------------------------------------------\n",
      "Traceback (most recent call last):\n",
      "  File \"/home/manti/uoc/curso/laboratorios/lab_04/mod/testing.py\", line 174, in runTest\n",
      "    self.assertAlmostEqual(fn(self.input), self.output, delta=5, msg=f\"Should be {self.output}\")\n",
      "AssertionError: 472.6160958956189 != 492.5271029359062 within 5 delta (19.911007040287302 difference) : Should be 492.5271029359062\n",
      "\n",
      "======================================================================\n",
      "FAIL: runTest (mod.testing.test_stdev.<locals>.TestKnown)\n",
      "----------------------------------------------------------------------\n",
      "Traceback (most recent call last):\n",
      "  File \"/home/manti/uoc/curso/laboratorios/lab_04/mod/testing.py\", line 174, in runTest\n",
      "    self.assertAlmostEqual(fn(self.input), self.output, delta=5, msg=f\"Should be {self.output}\")\n",
      "AssertionError: 559.3404457238004 != 564.9054322988044 within 5 delta (5.5649865750040135 difference) : Should be 564.9054322988044\n",
      "\n",
      "======================================================================\n",
      "FAIL: runTest (mod.testing.test_stdev.<locals>.TestKnown)\n",
      "----------------------------------------------------------------------\n",
      "Traceback (most recent call last):\n",
      "  File \"/home/manti/uoc/curso/laboratorios/lab_04/mod/testing.py\", line 174, in runTest\n",
      "    self.assertAlmostEqual(fn(self.input), self.output, delta=5, msg=f\"Should be {self.output}\")\n",
      "AssertionError: 567.9369890503872 != 580.492799292499 within 5 delta (12.555810242111761 difference) : Should be 580.492799292499\n",
      "\n",
      "======================================================================\n",
      "FAIL: runTest (mod.testing.test_stdev.<locals>.TestKnown)\n",
      "----------------------------------------------------------------------\n",
      "Traceback (most recent call last):\n",
      "  File \"/home/manti/uoc/curso/laboratorios/lab_04/mod/testing.py\", line 174, in runTest\n",
      "    self.assertAlmostEqual(fn(self.input), self.output, delta=5, msg=f\"Should be {self.output}\")\n",
      "AssertionError: 549.0363649697475 != 562.2387551284388 within 5 delta (13.202390158691287 difference) : Should be 562.2387551284388\n",
      "\n",
      "======================================================================\n",
      "FAIL: runTest (mod.testing.test_stdev.<locals>.TestKnown)\n",
      "----------------------------------------------------------------------\n",
      "Traceback (most recent call last):\n",
      "  File \"/home/manti/uoc/curso/laboratorios/lab_04/mod/testing.py\", line 174, in runTest\n",
      "    self.assertAlmostEqual(fn(self.input), self.output, delta=5, msg=f\"Should be {self.output}\")\n",
      "AssertionError: 572.3892921577572 != 578.3973403291191 within 5 delta (6.0080481713619065 difference) : Should be 578.3973403291191\n",
      "\n",
      "----------------------------------------------------------------------\n",
      "Ran 100 tests in 0.375s\n",
      "\n",
      "FAILED (failures=48)\n"
     ]
    }
   ],
   "source": [
    "test_stdev(st_dev_funcional)"
   ]
  },
  {
   "cell_type": "markdown",
   "metadata": {},
   "source": [
    "## 10. Escribe una función para verificar si una cadena es un pangrama, es decir: si contiene todas las letras del alfabeto al menos una vez. Ten en cuenta que las cadenas pueden contener caracteres que no son letras."
   ]
  },
  {
   "cell_type": "code",
   "execution_count": null,
   "metadata": {},
   "outputs": [],
   "source": [
    "#tu codigo aquí"
   ]
  },
  {
   "cell_type": "code",
   "execution_count": null,
   "metadata": {},
   "outputs": [],
   "source": [
    "# Para testear tu función\n",
    "test_pangram(is_pangram_imperativa)"
   ]
  },
  {
   "cell_type": "code",
   "execution_count": null,
   "metadata": {},
   "outputs": [],
   "source": []
  },
  {
   "cell_type": "code",
   "execution_count": null,
   "metadata": {},
   "outputs": [],
   "source": [
    "test_pangram(is_pangram_poo)"
   ]
  },
  {
   "cell_type": "code",
   "execution_count": null,
   "metadata": {},
   "outputs": [],
   "source": []
  },
  {
   "cell_type": "code",
   "execution_count": null,
   "metadata": {},
   "outputs": [],
   "source": [
    "# Test para la función funcional\n",
    "test_pangram(is_pangram_funcional)"
   ]
  },
  {
   "cell_type": "markdown",
   "metadata": {},
   "source": [
    "## 11. Escribe una función que reciba una cadena de palabras separadas por comas y devuelva una cadena de palabras separadas por comas ordenadas alfabéticamente.\n",
    "\n",
    "`NOTA: Puedes usar sorted pero no split y definitivamente no join! 🤪`"
   ]
  },
  {
   "cell_type": "code",
   "execution_count": 100,
   "metadata": {},
   "outputs": [
    {
     "data": {
      "text/plain": [
       "['a', 'a', 'c', 'f']"
      ]
     },
     "execution_count": 100,
     "metadata": {},
     "output_type": "execute_result"
    }
   ],
   "source": [
    "def sort_words_imperativa(arr):\n",
    "    return\n",
    "\n",
    "arr= ['a','c','a','f']"
   ]
  },
  {
   "cell_type": "code",
   "execution_count": null,
   "metadata": {},
   "outputs": [],
   "source": [
    "# Para testear tu función \n",
    "test_alpha(sort_words_imperativa)"
   ]
  },
  {
   "cell_type": "code",
   "execution_count": null,
   "metadata": {},
   "outputs": [],
   "source": []
  },
  {
   "cell_type": "code",
   "execution_count": null,
   "metadata": {},
   "outputs": [],
   "source": [
    "test_alpha(sort_words_poo)"
   ]
  },
  {
   "cell_type": "code",
   "execution_count": null,
   "metadata": {},
   "outputs": [],
   "source": []
  },
  {
   "cell_type": "code",
   "execution_count": null,
   "metadata": {},
   "outputs": [],
   "source": [
    "test_alpha(sort_words_funcional)"
   ]
  },
  {
   "cell_type": "markdown",
   "metadata": {},
   "source": [
    "## 12. Escribe una función para verificar si una contraseña dada es fuerte (al menos 8 caracteres, al menos una minúscula, al menos una mayúscula, al menos un número y al menos un carácter especial). Debería devolver True si es fuerte y False si no lo es. Se permit el uso de regex"
   ]
  },
  {
   "cell_type": "code",
   "execution_count": null,
   "metadata": {},
   "outputs": [],
   "source": [
    "#tu codigo aquí"
   ]
  },
  {
   "cell_type": "code",
   "execution_count": null,
   "metadata": {},
   "outputs": [],
   "source": [
    "# Para testear tu función\n",
    "test_pass(is_strong_password_imperativa)"
   ]
  },
  {
   "cell_type": "code",
   "execution_count": null,
   "metadata": {},
   "outputs": [],
   "source": []
  },
  {
   "cell_type": "code",
   "execution_count": null,
   "metadata": {},
   "outputs": [],
   "source": [
    "test_pass(is_strong_password_poo)"
   ]
  },
  {
   "cell_type": "code",
   "execution_count": null,
   "metadata": {},
   "outputs": [],
   "source": []
  },
  {
   "cell_type": "code",
   "execution_count": null,
   "metadata": {},
   "outputs": [],
   "source": [
    "test_pass(is_strong_password_funcional)"
   ]
  }
 ],
 "metadata": {
  "kernelspec": {
   "display_name": "Python 3 (ipykernel)",
   "language": "python",
   "name": "python3"
  },
  "language_info": {
   "codemirror_mode": {
    "name": "ipython",
    "version": 3
   },
   "file_extension": ".py",
   "mimetype": "text/x-python",
   "name": "python",
   "nbconvert_exporter": "python",
   "pygments_lexer": "ipython3",
   "version": "3.10.12"
  },
  "vscode": {
   "interpreter": {
    "hash": "aee8b7b246df8f9039afb4144a1f6fd8d2ca17a180786b69acc140d282b71a49"
   }
  }
 },
 "nbformat": 4,
 "nbformat_minor": 4
}
